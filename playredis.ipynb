{
 "cells": [
  {
   "cell_type": "code",
   "execution_count": 120,
   "metadata": {},
   "outputs": [],
   "source": [
    "%matplotlib inline\n",
    "import cloudpickle\n",
    "import redis\n",
    "import lz4.frame\n",
    "import subprocess\n",
    "\n",
    "import numpy as np\n",
    "import time\n",
    "\n",
    "import uproot\n",
    "import uproot_methods\n",
    "import numpy as np\n",
    "import awkward\n",
    "\n",
    "import os\n",
    "import sys\n",
    "\n",
    "import pandas as pd\n",
    "\n",
    "import concurrent.futures\n",
    "from tqdm.auto import tqdm\n",
    "\n",
    "import glob\n",
    "import functools\n",
    "\n",
    "import matplotlib.pyplot as plt"
   ]
  },
  {
   "cell_type": "code",
   "execution_count": 121,
   "metadata": {},
   "outputs": [],
   "source": [
    "# functions to pickle and unpickle (to/from string) with lz4 compression\n",
    "# note, cloudpickle requires same python version used locally and on worker!!\n",
    "# this could be relaxed with a different pickle protocol in dumps(), but then life gets messier\n",
    "def compress_and_dumps(obj):\n",
    "    return lz4.frame.compress(cloudpickle.dumps(obj),compression_level=lz4.frame.COMPRESSIONLEVEL_MINHC)\n",
    "\n",
    "def decompress_and_loads(obj):\n",
    "    return cloudpickle.loads(lz4.frame.decompress(obj))"
   ]
  },
  {
   "cell_type": "code",
   "execution_count": 122,
   "metadata": {},
   "outputs": [],
   "source": [
    "def get_met_hist(fname,entrystart=0,entrystop=None,bins=np.linspace(0,500,500)):\n",
    "    \"\"\"\n",
    "    return \n",
    "    - event count considered\n",
    "    - array of histogram bin counts for 1D MET distribution\n",
    "    \"\"\"\n",
    "    f = uproot.open(fname)\n",
    "    t = f[\"Events\"]\n",
    "    arr = t.array(\"MET_pt\",entrystart=entrystart,entrystop=entrystop)#,cache=cache)\n",
    "    nevents = len(arr)\n",
    "    counts,_ = np.histogram(np.clip(arr,bins[0],bins[-1]),bins=bins)\n",
    "    return (nevents,counts)\n",
    "\n",
    "def get_mll_hist(fname,entrystart=0,entrystop=None,bins=np.linspace(0,500,1000)):\n",
    "    \"\"\"\n",
    "    return \n",
    "    - event count considered\n",
    "    - array of histogram bin counts for m(mumu) for nmu==2 events\n",
    "    \"\"\"\n",
    "    f = uproot.open(fname)\n",
    "    t = f[\"Events\"]\n",
    "    p4 = uproot_methods.TLorentzVectorArray.from_ptetaphim(\n",
    "        *t.arrays(\n",
    "            [\"Muon_pt\",\"Muon_eta\",\"Muon_phi\",\"Muon_mass\"],\n",
    "            outputtype=tuple,\n",
    "            namedecode=\"ascii\",\n",
    "            entrystart=entrystart,\n",
    "            entrystop=entrystop,\n",
    "        ),\n",
    "    )\n",
    "    nevents = len(p4)\n",
    "    pairs = p4[p4.counts==2]\n",
    "    mll = (pairs[:,0]+pairs[:,1]).mass\n",
    "    counts,_ = np.histogram(np.clip(mll,bins[0],bins[-1]),bins=bins)\n",
    "    return (nevents,counts)"
   ]
  },
  {
   "cell_type": "code",
   "execution_count": 123,
   "metadata": {},
   "outputs": [],
   "source": [
    "# Either hardcode `fullurl` here to the proper redis url, or put it `secret.txt`\n",
    "\n",
    "# fullurl = \"redis://:blah@ec2-1-2-3-4.us-west-1.compute.amazonaws.com:6379\"\n",
    "fullurl = open(\"secret.txt\").read().strip()\n",
    "r = redis.Redis.from_url(fullurl)"
   ]
  },
  {
   "cell_type": "code",
   "execution_count": 124,
   "metadata": {},
   "outputs": [],
   "source": [
    "# queue name relies on username to avoid clashes\n",
    "user = os.getenv(\"USER\")\n",
    "qname_results = user+\":results\"\n",
    "qname_tasks = user+\":tasks\""
   ]
  },
  {
   "cell_type": "code",
   "execution_count": 125,
   "metadata": {
    "scrolled": true
   },
   "outputs": [
    {
     "name": "stdout",
     "output_type": "stream",
     "text": [
      "================ 10 total workers ================\n"
     ]
    },
    {
     "data": {
      "text/html": [
       "<div>\n",
       "<style scoped>\n",
       "    .dataframe tbody tr th:only-of-type {\n",
       "        vertical-align: middle;\n",
       "    }\n",
       "\n",
       "    .dataframe tbody tr th {\n",
       "        vertical-align: top;\n",
       "    }\n",
       "\n",
       "    .dataframe thead th {\n",
       "        text-align: right;\n",
       "    }\n",
       "</style>\n",
       "<table border=\"1\" class=\"dataframe\">\n",
       "  <thead>\n",
       "    <tr style=\"text-align: right;\">\n",
       "      <th></th>\n",
       "      <th>addr</th>\n",
       "      <th>name</th>\n",
       "      <th>age</th>\n",
       "      <th>id</th>\n",
       "      <th>idle</th>\n",
       "    </tr>\n",
       "  </thead>\n",
       "  <tbody>\n",
       "    <tr>\n",
       "      <th>1</th>\n",
       "      <td>169.228.132.181:6980</td>\n",
       "      <td>namin__sdsc-82.t2.ucsd.edu__mytask1__10183501.2</td>\n",
       "      <td>329</td>\n",
       "      <td>1520</td>\n",
       "      <td>43</td>\n",
       "    </tr>\n",
       "    <tr>\n",
       "      <th>2</th>\n",
       "      <td>169.228.131.64:41573</td>\n",
       "      <td>namin__cabinet-5-5-5.t2.ucsd.edu__mytask1__101...</td>\n",
       "      <td>329</td>\n",
       "      <td>1521</td>\n",
       "      <td>32</td>\n",
       "    </tr>\n",
       "    <tr>\n",
       "      <th>4</th>\n",
       "      <td>169.228.131.46:42292</td>\n",
       "      <td>namin__cabinet-5-5-23.t2.ucsd.edu__mytask1__10...</td>\n",
       "      <td>324</td>\n",
       "      <td>1523</td>\n",
       "      <td>44</td>\n",
       "    </tr>\n",
       "    <tr>\n",
       "      <th>5</th>\n",
       "      <td>169.228.131.80:44586</td>\n",
       "      <td>namin__cabinet-4-4-26.t2.ucsd.edu__mytask1__10...</td>\n",
       "      <td>329</td>\n",
       "      <td>1517</td>\n",
       "      <td>21</td>\n",
       "    </tr>\n",
       "    <tr>\n",
       "      <th>6</th>\n",
       "      <td>169.228.132.102:33790</td>\n",
       "      <td>namin__sdsc-3.t2.ucsd.edu__mytask1__10183501.8</td>\n",
       "      <td>318</td>\n",
       "      <td>1525</td>\n",
       "      <td>43</td>\n",
       "    </tr>\n",
       "  </tbody>\n",
       "</table>\n",
       "</div>"
      ],
      "text/plain": [
       "                    addr                                               name  \\\n",
       "1   169.228.132.181:6980    namin__sdsc-82.t2.ucsd.edu__mytask1__10183501.2   \n",
       "2   169.228.131.64:41573  namin__cabinet-5-5-5.t2.ucsd.edu__mytask1__101...   \n",
       "4   169.228.131.46:42292  namin__cabinet-5-5-23.t2.ucsd.edu__mytask1__10...   \n",
       "5   169.228.131.80:44586  namin__cabinet-4-4-26.t2.ucsd.edu__mytask1__10...   \n",
       "6  169.228.132.102:33790     namin__sdsc-3.t2.ucsd.edu__mytask1__10183501.8   \n",
       "\n",
       "   age    id idle  \n",
       "1  329  1520   43  \n",
       "2  329  1521   32  \n",
       "4  324  1523   44  \n",
       "5  329  1517   21  \n",
       "6  318  1525   43  "
      ]
     },
     "execution_count": 125,
     "metadata": {},
     "output_type": "execute_result"
    }
   ],
   "source": [
    "df = pd.DataFrame(r.client_list()).query(\"flags!='N'\")[[\"addr\",\"name\",\"age\",\"id\",\"idle\"]]\n",
    "print(\" {} total workers \".format(df.shape[0]).center(50,\"=\"))\n",
    "df.head()"
   ]
  },
  {
   "cell_type": "code",
   "execution_count": 126,
   "metadata": {},
   "outputs": [],
   "source": [
    "@functools.lru_cache(maxsize=128)\n",
    "def get_chunking(filelist, chunksize, treename=\"Events\", workers=1):\n",
    "    \"\"\"\n",
    "    Return 2-tuple of\n",
    "    - chunks: triplets of (filename,entrystart,entrystop) calculated with input `chunksize` and `filelist`\n",
    "    - total_nevents: total event count over `filelist`\n",
    "    \"\"\"\n",
    "    print(\"Recomputing\")\n",
    "    chunks = []\n",
    "    executor = None if len(filelist) < 5 else concurrent.futures.ThreadPoolExecutor(workers)\n",
    "    nevents = 0\n",
    "    for fn, nentries in uproot.numentries(filelist, treename, total=False, executor=executor,).items():\n",
    "        nevents += nentries\n",
    "        for index in range(nentries // chunksize + 1):\n",
    "            chunks.append((fn, chunksize*index, chunksize*(index+1)))\n",
    "    return chunks,nevents"
   ]
  },
  {
   "cell_type": "code",
   "execution_count": 127,
   "metadata": {},
   "outputs": [
    {
     "name": "stdout",
     "output_type": "stream",
     "text": [
      "Recomputing\n",
      "39 chunks of 20 files, with a total of 2.9259e+07 events\n",
      "CPU times: user 1.73 s, sys: 24 ms, total: 1.75 s\n",
      "Wall time: 2.48 s\n"
     ]
    }
   ],
   "source": [
    "%%time\n",
    "fnames = sorted(glob.glob(\"/hadoop/cms/store/user/namin/nanoaod/DoubleMuon__Run*/*.root\"))\n",
    "\n",
    "# For testing, just 20 files (doublemu has ~130 total)\n",
    "fnames = fnames[:20]\n",
    "\n",
    "chunks, total_nevents = get_chunking(tuple(fnames),int(1.0e6))\n",
    "print(\"{} chunks of {} files, with a total of {:.5g} events\".format(len(chunks),len(fnames),total_nevents))"
   ]
  },
  {
   "cell_type": "code",
   "execution_count": 128,
   "metadata": {},
   "outputs": [
    {
     "name": "stdout",
     "output_type": "stream",
     "text": [
      "Start pushing tasks to broker\n",
      "Done pushing tasks to broker\n"
     ]
    },
    {
     "data": {
      "application/vnd.jupyter.widget-view+json": {
       "model_id": "bee944fd152d4d29a12ce74759c9f298",
       "version_major": 2,
       "version_minor": 0
      },
      "text/plain": [
       "HBox(children=(IntProgress(value=0, max=29258515), HTML(value='')))"
      ]
     },
     "metadata": {},
     "output_type": "display_data"
    },
    {
     "name": "stdout",
     "output_type": "stream",
     "text": [
      "2.9259e+07 events in 10.00s @ 2.93MHz\n"
     ]
    }
   ],
   "source": [
    "# Flush old results/tasks in case we quit before consuming all of them\n",
    "r.delete(qname_results,qname_tasks)\n",
    "\n",
    "t0 = time.time()\n",
    "\n",
    "# Plot MET branch (fast) or dimuon mass (slower)?\n",
    "do_met = True\n",
    "# do_met = False\n",
    "\n",
    "if do_met:\n",
    "    # 1D histogram of MET\n",
    "    bins = np.linspace(0,500,500)\n",
    "    f = get_met_hist\n",
    "else:\n",
    "    # 1D histogram of dimuon invariant mass\n",
    "    # log spaced binning for cleaner low mass resonances\n",
    "    bins = np.logspace(np.log10(0.5),np.log10(1000),num=300)\n",
    "    f = get_mll_hist\n",
    "    \n",
    "# Push all task function/args to the broker\n",
    "# Use a pipeline to put all lpushes into a single transfer\n",
    "# (~500 lpushes takes a few seconds otherwise)\n",
    "print(\"Start pushing tasks to broker\")\n",
    "pipe = r.pipeline()\n",
    "for fname,entrystart,entrystop in chunks:\n",
    "    pipe.lpush(qname_tasks,compress_and_dumps([\n",
    "        functools.partial(f,bins=bins,entrystart=entrystart,entrystop=entrystop),\n",
    "        fname\n",
    "    ]))\n",
    "pipe.execute()\n",
    "print(\"Done pushing tasks to broker\")\n",
    "\n",
    "# Read results from broker\n",
    "results = []\n",
    "bar = tqdm(total=total_nevents,unit_scale=True,unit=\"event\")\n",
    "while len(results) < len(chunks):\n",
    "    tofetch = r.llen(qname_results)\n",
    "    # avoid spamming pops requests too fast\n",
    "    if tofetch == 0: \n",
    "        time.sleep(0.5)\n",
    "        continue\n",
    "    pipe = r.pipeline()\n",
    "    for _ in range(tofetch):\n",
    "        pipe.brpop(qname_results)\n",
    "    popchunk = pipe.execute()\n",
    "    for pc in popchunk:\n",
    "        if pc is None: continue\n",
    "        key,res_raw = pc\n",
    "        meta,(nevents,counts) = decompress_and_loads(res_raw)\n",
    "        results.append(dict(\n",
    "            fname=meta[\"args\"],\n",
    "            nevents=nevents,\n",
    "            counts=counts,\n",
    "            client=meta[\"client_name\"],\n",
    "            elapsed=meta[\"elapsed\"],\n",
    "        ))\n",
    "        bar.update(nevents)\n",
    "t1 = time.time()\n",
    "print(\"{:.5g} events in {:.2f}s @ {:.2f}MHz\".format(total_nevents,t1-t0,1.0e-6*total_nevents/(t1-t0)))"
   ]
  },
  {
   "cell_type": "code",
   "execution_count": 129,
   "metadata": {},
   "outputs": [
    {
     "data": {
      "image/png": "[encoded data removed]",
      "text/plain": [
       "<Figure size 432x288 with 1 Axes>"
      ]
     },
     "metadata": {
      "needs_background": "light"
     },
     "output_type": "display_data"
    }
   ],
   "source": [
    "# sum up the histograms\n",
    "counts = sum([x[\"counts\"] for x in results])\n",
    "if do_met:\n",
    "    centers = 0.5*(bins[1:]+bins[:-1])\n",
    "    fig,ax = plt.subplots()\n",
    "    ax.hist(centers,weights=counts,bins=bins);\n",
    "    ax.set_yscale(\"log\")\n",
    "    ax.set_xlabel(\"MET\")\n",
    "else:\n",
    "    print(\"{:.5g} total muons\".format(counts.sum()))\n",
    "    # log spaced bin centers (matching the inputs)\n",
    "    centers = np.power(10.,0.5*(np.log10(bins[:-1])+np.log10(bins[1:])))\n",
    "    fig,ax = plt.subplots()\n",
    "    ax.hist(centers,weights=counts,bins=bins);\n",
    "    ax.set_xscale(\"log\")\n",
    "    ax.set_yscale(\"log\")\n",
    "    ax.set_xlabel(\"Invariant mass\")"
   ]
  },
  {
   "cell_type": "code",
   "execution_count": 130,
   "metadata": {},
   "outputs": [
    {
     "data": {
      "text/plain": [
       "{'calls': 961172, 'usec': 1208532, 'usec_per_call': 1.26}"
      ]
     },
     "execution_count": 130,
     "metadata": {},
     "output_type": "execute_result"
    }
   ],
   "source": [
    "r.info(\"all\")[\"cmdstat_brpop\"]"
   ]
  },
  {
   "cell_type": "code",
   "execution_count": 131,
   "metadata": {},
   "outputs": [
    {
     "data": {
      "text/plain": [
       "client\n",
       "namin__cabinet-8-8-7     236688.320416\n",
       "namin__sdsc-2            281462.328544\n",
       "namin__sdsc-3            308413.058207\n",
       "namin__cabinet-5-5-23    331646.092043\n",
       "namin__sdsc-83           339519.218708\n",
       "namin__cabinet-4-4-26    358459.402116\n",
       "namin__cabinet-5-5-5     406493.193771\n",
       "namin__sdsc-82           531932.554958\n",
       "Name: rate, dtype: float64"
      ]
     },
     "execution_count": 131,
     "metadata": {},
     "output_type": "execute_result"
    }
   ],
   "source": [
    "df = pd.DataFrame(results).drop([\"counts\"],axis=1)\n",
    "df[\"rate\"] = df[\"nevents\"]/df[\"elapsed\"]\n",
    "# Stats for nodes we ran on. Show slowest nodes (Hz) at the top.\n",
    "df.groupby(df.client.str.split(\".\",1).str[0])[\"rate\"].mean().sort_values()"
   ]
  },
  {
   "cell_type": "code",
   "execution_count": null,
   "metadata": {},
   "outputs": [],
   "source": []
  }
 ],
 "metadata": {
  "kernelspec": {
   "display_name": "Python 3",
   "language": "python",
   "name": "python3"
  },
  "language_info": {
   "codemirror_mode": {
    "name": "ipython",
    "version": 3
   },
   "file_extension": ".py",
   "mimetype": "text/x-python",
   "name": "python",
   "nbconvert_exporter": "python",
   "pygments_lexer": "ipython3",
   "version": "3.5.2"
  }
 },
 "nbformat": 4,
 "nbformat_minor": 2
}
