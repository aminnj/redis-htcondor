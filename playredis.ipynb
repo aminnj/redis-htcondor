{
 "cells": [
  {
   "cell_type": "code",
   "execution_count": 27,
   "metadata": {},
   "outputs": [],
   "source": [
    "%matplotlib inline\n",
    "import cloudpickle\n",
    "import redis\n",
    "import lz4.frame\n",
    "import subprocess\n",
    "\n",
    "import numpy as np\n",
    "import time\n",
    "\n",
    "import uproot\n",
    "import uproot_methods\n",
    "import numpy as np\n",
    "import awkward\n",
    "\n",
    "import pandas as pd\n",
    "\n",
    "import concurrent.futures\n",
    "from tqdm.auto import tqdm\n",
    "\n",
    "import glob\n",
    "import functools\n",
    "\n",
    "import matplotlib.pyplot as plt"
   ]
  },
  {
   "cell_type": "code",
   "execution_count": 28,
   "metadata": {},
   "outputs": [],
   "source": [
    "# functions to pickle and unpickle (to/from string) with lz4 compression\n",
    "# note, cloudpickle requires same python version used locally and on worker!!\n",
    "# this could be relaxed with a different pickle protocol in dumps(), but then life gets messier\n",
    "def compress_and_dumps(obj):\n",
    "    return lz4.frame.compress(cloudpickle.dumps(obj),compression_level=lz4.frame.COMPRESSIONLEVEL_MINHC)\n",
    "\n",
    "def decompress_and_loads(obj):\n",
    "    return cloudpickle.loads(lz4.frame.decompress(obj))"
   ]
  },
  {
   "cell_type": "code",
   "execution_count": 29,
   "metadata": {},
   "outputs": [],
   "source": [
    "def get_met_hist(fname,entrystart=0,entrystop=None,bins=np.linspace(0,500,500)):\n",
    "    \"\"\"\n",
    "    return \n",
    "    - event count considered\n",
    "    - array of histogram bin counts for 1D MET distribution\n",
    "    \"\"\"\n",
    "    f = uproot.open(fname)\n",
    "    t = f[\"Events\"]\n",
    "    arr = t.array(\"MET_pt\",entrystart=entrystart,entrystop=entrystop)\n",
    "    nevents = len(arr)\n",
    "    counts,_ = np.histogram(np.clip(arr,bins[0],bins[-1]),bins=bins)\n",
    "    return (nevents,counts)\n",
    "\n",
    "def get_mll_hist(fname,entrystart=0,entrystop=None,bins=np.linspace(0,500,1000)):\n",
    "    \"\"\"\n",
    "    return \n",
    "    - event count considered\n",
    "    - array of histogram bin counts for m(mumu) for nmu==2 events\n",
    "    \"\"\"\n",
    "    f = uproot.open(fname)\n",
    "    t = f[\"Events\"]\n",
    "    p4 = uproot_methods.TLorentzVectorArray.from_ptetaphim(\n",
    "        *t.arrays(\n",
    "            [\"Muon_pt\",\"Muon_eta\",\"Muon_phi\",\"Muon_mass\"],\n",
    "            outputtype=tuple,\n",
    "            namedecode=\"ascii\",\n",
    "            entrystart=entrystart,\n",
    "            entrystop=entrystop,\n",
    "        ),\n",
    "    )\n",
    "    nevents = len(p4)\n",
    "    pairs = p4[p4.counts==2]\n",
    "    mll = (pairs[:,0]+pairs[:,1]).mass\n",
    "    counts,_ = np.histogram(np.clip(mll,bins[0],bins[-1]),bins=bins)\n",
    "    return (nevents,counts)"
   ]
  },
  {
   "cell_type": "code",
   "execution_count": 30,
   "metadata": {},
   "outputs": [],
   "source": [
    "# Either hardcode `fullurl` here to the proper redis url, or put it `secret.txt`\n",
    "\n",
    "# fullurl = \"redis://:blah@ec2-1-2-3-4.us-west-1.compute.amazonaws.com:6379\"\n",
    "fullurl = open(\"secret.txt\").read().strip()\n",
    "r = redis.Redis.from_url(fullurl)"
   ]
  },
  {
   "cell_type": "code",
   "execution_count": 31,
   "metadata": {},
   "outputs": [],
   "source": [
    "# queue name relies on username to avoid clashes\n",
    "user = os.getenv(\"USER\")\n",
    "qname_results = user+\":results\"\n",
    "qname_tasks = user+\":tasks\""
   ]
  },
  {
   "cell_type": "code",
   "execution_count": 32,
   "metadata": {
    "scrolled": true
   },
   "outputs": [
    {
     "name": "stdout",
     "output_type": "stream",
     "text": [
      "================ 10 total workers ================\n"
     ]
    },
    {
     "data": {
      "text/html": [
       "<div>\n",
       "<style scoped>\n",
       "    .dataframe tbody tr th:only-of-type {\n",
       "        vertical-align: middle;\n",
       "    }\n",
       "\n",
       "    .dataframe tbody tr th {\n",
       "        vertical-align: top;\n",
       "    }\n",
       "\n",
       "    .dataframe thead th {\n",
       "        text-align: right;\n",
       "    }\n",
       "</style>\n",
       "<table border=\"1\" class=\"dataframe\">\n",
       "  <thead>\n",
       "    <tr style=\"text-align: right;\">\n",
       "      <th></th>\n",
       "      <th>addr</th>\n",
       "      <th>name</th>\n",
       "      <th>age</th>\n",
       "      <th>id</th>\n",
       "      <th>idle</th>\n",
       "    </tr>\n",
       "  </thead>\n",
       "  <tbody>\n",
       "    <tr>\n",
       "      <th>0</th>\n",
       "      <td>169.228.132.178:11174</td>\n",
       "      <td>namin__sdsc-79.t2.ucsd.edu__mytask1__10183323.0</td>\n",
       "      <td>35</td>\n",
       "      <td>1184</td>\n",
       "      <td>35</td>\n",
       "    </tr>\n",
       "    <tr>\n",
       "      <th>1</th>\n",
       "      <td>169.228.131.240:53810</td>\n",
       "      <td>namin__cabinet-0-0-14.t2.ucsd.edu__mytask1__10...</td>\n",
       "      <td>24</td>\n",
       "      <td>1190</td>\n",
       "      <td>23</td>\n",
       "    </tr>\n",
       "    <tr>\n",
       "      <th>2</th>\n",
       "      <td>169.228.131.44:57798</td>\n",
       "      <td>namin__cabinet-5-5-25.t2.ucsd.edu__mytask1__10...</td>\n",
       "      <td>31</td>\n",
       "      <td>1185</td>\n",
       "      <td>31</td>\n",
       "    </tr>\n",
       "    <tr>\n",
       "      <th>4</th>\n",
       "      <td>169.228.131.240:53776</td>\n",
       "      <td>namin__cabinet-0-0-14.t2.ucsd.edu__mytask1__10...</td>\n",
       "      <td>25</td>\n",
       "      <td>1186</td>\n",
       "      <td>25</td>\n",
       "    </tr>\n",
       "    <tr>\n",
       "      <th>5</th>\n",
       "      <td>169.228.131.240:53778</td>\n",
       "      <td>namin__cabinet-0-0-14.t2.ucsd.edu__mytask1__10...</td>\n",
       "      <td>25</td>\n",
       "      <td>1187</td>\n",
       "      <td>25</td>\n",
       "    </tr>\n",
       "  </tbody>\n",
       "</table>\n",
       "</div>"
      ],
      "text/plain": [
       "                    addr                                               name  \\\n",
       "0  169.228.132.178:11174    namin__sdsc-79.t2.ucsd.edu__mytask1__10183323.0   \n",
       "1  169.228.131.240:53810  namin__cabinet-0-0-14.t2.ucsd.edu__mytask1__10...   \n",
       "2   169.228.131.44:57798  namin__cabinet-5-5-25.t2.ucsd.edu__mytask1__10...   \n",
       "4  169.228.131.240:53776  namin__cabinet-0-0-14.t2.ucsd.edu__mytask1__10...   \n",
       "5  169.228.131.240:53778  namin__cabinet-0-0-14.t2.ucsd.edu__mytask1__10...   \n",
       "\n",
       "  age    id idle  \n",
       "0  35  1184   35  \n",
       "1  24  1190   23  \n",
       "2  31  1185   31  \n",
       "4  25  1186   25  \n",
       "5  25  1187   25  "
      ]
     },
     "execution_count": 32,
     "metadata": {},
     "output_type": "execute_result"
    }
   ],
   "source": [
    "df = pd.DataFrame(r.client_list()).query(\"flags!='N'\")[[\"addr\",\"name\",\"age\",\"id\",\"idle\"]]\n",
    "print(\" {} total workers \".format(df.shape[0]).center(50,\"=\"))\n",
    "df.head()"
   ]
  },
  {
   "cell_type": "code",
   "execution_count": 33,
   "metadata": {},
   "outputs": [],
   "source": [
    "@functools.lru_cache(maxsize=128)\n",
    "def get_chunking(filelist, chunksize, treename=\"Events\", workers=1):\n",
    "    \"\"\"\n",
    "    Return 2-tuple of\n",
    "    - chunks: triplets of (filename,entrystart,entrystop) calculated with input `chunksize` and `filelist`\n",
    "    - total_nevents: total event count over `filelist`\n",
    "    \"\"\"\n",
    "    print(\"Recomputing\")\n",
    "    chunks = []\n",
    "    executor = None if len(filelist) < 5 else concurrent.futures.ThreadPoolExecutor(workers)\n",
    "    nevents = 0\n",
    "    for fn, nentries in uproot.numentries(filelist, treename, total=False, executor=executor,).items():\n",
    "        nevents += nentries\n",
    "        for index in range(nentries // chunksize + 1):\n",
    "            chunks.append((fn, chunksize*index, chunksize*(index+1)))\n",
    "    return chunks,nevents"
   ]
  },
  {
   "cell_type": "code",
   "execution_count": 34,
   "metadata": {},
   "outputs": [
    {
     "name": "stdout",
     "output_type": "stream",
     "text": [
      "Recomputing\n",
      "173 chunks of 50 files, with a total of 7.5548e+07 events\n",
      "CPU times: user 5.41 s, sys: 323 ms, total: 5.73 s\n",
      "Wall time: 12.2 s\n"
     ]
    }
   ],
   "source": [
    "%%time\n",
    "fnames = sorted(glob.glob(\"/hadoop/cms/store/user/namin/nanoaod/DoubleMuon__Run*/*.root\"))\n",
    "# fnames = sorted(glob.glob(\"/hadoop/cms/store/user/namin/nanoaod/JetHT__Run*/*.root\"))\n",
    "\n",
    "# For testing, just 50 files (doublemu has ~130 total)\n",
    "fnames = fnames[:50]\n",
    "\n",
    "chunks, total_nevents = get_chunking(tuple(fnames),int(0.5e6))\n",
    "print(\"{} chunks of {} files, with a total of {:.5g} events\".format(len(chunks),len(fnames),total_nevents))"
   ]
  },
  {
   "cell_type": "code",
   "execution_count": 35,
   "metadata": {},
   "outputs": [
    {
     "name": "stdout",
     "output_type": "stream",
     "text": [
      "Start pushing tasks to broker\n",
      "Done pushing tasks to broker\n"
     ]
    },
    {
     "data": {
      "application/vnd.jupyter.widget-view+json": {
       "model_id": "87f923fa49ee41e899d90361c51772f3",
       "version_major": 2,
       "version_minor": 0
      },
      "text/plain": [
       "HBox(children=(IntProgress(value=0, max=75547623), HTML(value='')))"
      ]
     },
     "metadata": {},
     "output_type": "display_data"
    },
    {
     "name": "stdout",
     "output_type": "stream",
     "text": [
      "7.5548e+07 events in 40.52s @ 1.86MHz\n"
     ]
    }
   ],
   "source": [
    "# Flush old results/tasks in case we quit before consuming all of them\n",
    "r.delete(qname_results,qname_tasks)\n",
    "\n",
    "t0 = time.time()\n",
    "\n",
    "# Plot MET branch (fast) or dimuon mass (slower)?\n",
    "do_met = True\n",
    "# do_met = False\n",
    "\n",
    "if do_met:\n",
    "    # 1D histogram of MET\n",
    "    bins = np.linspace(0,500,500)\n",
    "    f = get_met_hist\n",
    "else:\n",
    "    # 1D histogram of dimuon invariant mass\n",
    "    # log spaced binning for cleaner low mass resonances\n",
    "    bins = np.logspace(np.log10(0.5),np.log10(1000),num=300)\n",
    "    f = get_mll_hist\n",
    "    \n",
    "# Push all task function/args to the broker\n",
    "# Use a pipeline to put all lpushes into a single transfer\n",
    "# (~500 lpushes takes a few seconds otherwise)\n",
    "print(\"Start pushing tasks to broker\")\n",
    "pipe = r.pipeline()\n",
    "for fname,entrystart,entrystop in chunks:\n",
    "    pipe.lpush(qname_tasks,compress_and_dumps([\n",
    "        functools.partial(f,bins=bins,entrystart=entrystart,entrystop=entrystop),\n",
    "        fname\n",
    "    ]))\n",
    "pipe.execute()\n",
    "print(\"Done pushing tasks to broker\")\n",
    "\n",
    "# Read results from broker\n",
    "results = []\n",
    "bar = tqdm(total=total_nevents,unit_scale=True,unit=\"event\")\n",
    "batchsize = 1+(len(chunks)//25) # batch size for pipeline\n",
    "while len(results) < len(chunks):\n",
    "    pipe = r.pipeline()\n",
    "    for _ in range(batchsize):\n",
    "        pipe.brpop(qname_results)\n",
    "    for pc in pipe.execute():\n",
    "        if pc is None: continue\n",
    "        key,res_raw = pc\n",
    "        meta,(nevents,counts) = decompress_and_loads(res_raw)\n",
    "        results.append(dict(\n",
    "            fname=meta[\"args\"],\n",
    "            nevents=nevents,\n",
    "            counts=counts,\n",
    "            client=meta[\"client_name\"],\n",
    "            elapsed=meta[\"elapsed\"]\n",
    "        ))\n",
    "        bar.update(nevents)\n",
    "t1 = time.time()\n",
    "print(\"{:.5g} events in {:.2f}s @ {:.2f}MHz\".format(total_nevents,t1-t0,1.0e-6*total_nevents/(t1-t0)))"
   ]
  },
  {
   "cell_type": "code",
   "execution_count": 36,
   "metadata": {},
   "outputs": [
    {
     "data": {
      "image/png": "[encoded data removed]",
      "text/plain": [
       "<Figure size 432x288 with 1 Axes>"
      ]
     },
     "metadata": {
      "needs_background": "light"
     },
     "output_type": "display_data"
    }
   ],
   "source": [
    "# sum up the histograms\n",
    "counts = sum([x[\"counts\"] for x in results])\n",
    "if do_met:\n",
    "    centers = 0.5*(bins[1:]+bins[:-1])\n",
    "    fig,ax = plt.subplots()\n",
    "    ax.hist(centers,weights=counts,bins=bins);\n",
    "    ax.set_yscale(\"log\")\n",
    "    ax.set_xlabel(\"MET\")\n",
    "else:\n",
    "    print(\"{:.5g} total muons\".format(counts.sum()))\n",
    "    # log spaced bin centers (matching the inputs)\n",
    "    centers = np.power(10.,0.5*(np.log10(bins[:-1])+np.log10(bins[1:])))\n",
    "    fig,ax = plt.subplots()\n",
    "    ax.hist(centers,weights=counts,bins=bins);\n",
    "    ax.set_xscale(\"log\")\n",
    "    ax.set_yscale(\"log\")\n",
    "    ax.set_xlabel(\"Invariant mass\")"
   ]
  },
  {
   "cell_type": "code",
   "execution_count": 37,
   "metadata": {},
   "outputs": [
    {
     "data": {
      "text/plain": [
       "{'active_defrag_hits': 0,\n",
       " 'active_defrag_key_hits': 0,\n",
       " 'active_defrag_key_misses': 0,\n",
       " 'active_defrag_misses': 0,\n",
       " 'active_defrag_running': 0,\n",
       " 'allocator_active': 1134592,\n",
       " 'allocator_allocated': 806376,\n",
       " 'allocator_frag_bytes': 328216,\n",
       " 'allocator_frag_ratio': 1.41,\n",
       " 'allocator_resident': 5652480,\n",
       " 'allocator_rss_bytes': 4517888,\n",
       " 'allocator_rss_ratio': 4.98,\n",
       " 'aof_current_rewrite_time_sec': -1,\n",
       " 'aof_enabled': 0,\n",
       " 'aof_last_bgrewrite_status': 'ok',\n",
       " 'aof_last_cow_size': 0,\n",
       " 'aof_last_rewrite_time_sec': -1,\n",
       " 'aof_last_write_status': 'ok',\n",
       " 'aof_rewrite_in_progress': 0,\n",
       " 'aof_rewrite_scheduled': 0,\n",
       " 'arch_bits': 64,\n",
       " 'atomicvar_api': 'atomic-builtin',\n",
       " 'blocked_clients': 10,\n",
       " 'client_recent_max_input_buffer': 2,\n",
       " 'client_recent_max_output_buffer': 0,\n",
       " 'cluster_enabled': 0,\n",
       " 'cmdstat_auth': {'calls': 1286, 'usec': 3213, 'usec_per_call': 2.5},\n",
       " 'cmdstat_brpop': {'calls': 654227, 'usec': 645858, 'usec_per_call': 0.99},\n",
       " 'cmdstat_client': {'calls': 1352, 'usec': 27935, 'usec_per_call': 20.66},\n",
       " 'cmdstat_del': {'calls': 13, 'usec': 77, 'usec_per_call': 5.92},\n",
       " 'cmdstat_exec': {'calls': 41633, 'usec': 1166481, 'usec_per_call': 28.02},\n",
       " 'cmdstat_get': {'calls': 1, 'usec': 3, 'usec_per_call': 3.0},\n",
       " 'cmdstat_info': {'calls': 13, 'usec': 760, 'usec_per_call': 58.46},\n",
       " 'cmdstat_llen': {'calls': 728, 'usec': 1762, 'usec_per_call': 2.42},\n",
       " 'cmdstat_lpush': {'calls': 32524, 'usec': 192557, 'usec_per_call': 5.92},\n",
       " 'cmdstat_multi': {'calls': 41633, 'usec': 57155, 'usec_per_call': 1.37},\n",
       " 'cmdstat_ping': {'calls': 1, 'usec': 1, 'usec_per_call': 1.0},\n",
       " 'config_file': '/home/ec2-user/redis-stable/myconf.conf',\n",
       " 'configured_hz': 10,\n",
       " 'connected_clients': 11,\n",
       " 'connected_slaves': 0,\n",
       " 'evicted_keys': 0,\n",
       " 'executable': '/home/ec2-user/redis-stable/src/redis-server',\n",
       " 'expired_keys': 0,\n",
       " 'expired_stale_perc': 0.0,\n",
       " 'expired_time_cap_reached_count': 0,\n",
       " 'gcc_version': '7.3.1',\n",
       " 'hz': 10,\n",
       " 'instantaneous_input_kbps': 0.0,\n",
       " 'instantaneous_ops_per_sec': 0,\n",
       " 'instantaneous_output_kbps': 0.0,\n",
       " 'keyspace_hits': 654,\n",
       " 'keyspace_misses': 75,\n",
       " 'latest_fork_usec': 0,\n",
       " 'lazyfree_pending_objects': 0,\n",
       " 'loading': 0,\n",
       " 'lru_clock': 5549571,\n",
       " 'master_repl_offset': 0,\n",
       " 'master_replid': 'e8446890ec750524cbf5ac2a5e27817360c2a978',\n",
       " 'master_replid2': 0,\n",
       " 'maxmemory': 0,\n",
       " 'maxmemory_human': '0B',\n",
       " 'maxmemory_policy': 'noeviction',\n",
       " 'mem_allocator': 'jemalloc-5.1.0',\n",
       " 'mem_aof_buffer': 0,\n",
       " 'mem_clients_normal': 218914,\n",
       " 'mem_clients_slaves': 0,\n",
       " 'mem_fragmentation_bytes': 6300008,\n",
       " 'mem_fragmentation_ratio': 9.46,\n",
       " 'mem_not_counted_for_evict': 0,\n",
       " 'mem_replication_backlog': 0,\n",
       " 'migrate_cached_sockets': 0,\n",
       " 'multiplexing_api': 'epoll',\n",
       " 'number_of_cached_scripts': 0,\n",
       " 'os': 'Linux 4.14.123-111.109.amzn2.x86_64 x86_64',\n",
       " 'process_id': 7670,\n",
       " 'pubsub_channels': 0,\n",
       " 'pubsub_patterns': 0,\n",
       " 'rdb_bgsave_in_progress': 0,\n",
       " 'rdb_changes_since_last_save': 96075,\n",
       " 'rdb_current_bgsave_time_sec': -1,\n",
       " 'rdb_last_bgsave_status': 'ok',\n",
       " 'rdb_last_bgsave_time_sec': -1,\n",
       " 'rdb_last_cow_size': 0,\n",
       " 'rdb_last_save_time': 1565750503,\n",
       " 'redis_build_id': 'de104111b1f7ff0e',\n",
       " 'redis_git_dirty': 0,\n",
       " 'redis_git_sha1': 0,\n",
       " 'redis_mode': 'standalone',\n",
       " 'redis_version': '5.0.5',\n",
       " 'rejected_connections': 0,\n",
       " 'repl_backlog_active': 0,\n",
       " 'repl_backlog_first_byte_offset': 0,\n",
       " 'repl_backlog_histlen': 0,\n",
       " 'repl_backlog_size': 1048576,\n",
       " 'role': 'master',\n",
       " 'rss_overhead_bytes': 1392640,\n",
       " 'rss_overhead_ratio': 1.25,\n",
       " 'run_id': '17fdbdc18d81fca00207783da044a547d8fde3aa',\n",
       " 'second_repl_offset': -1,\n",
       " 'slave_expires_tracked_keys': 0,\n",
       " 'sync_full': 0,\n",
       " 'sync_partial_err': 0,\n",
       " 'sync_partial_ok': 0,\n",
       " 'tcp_port': 6379,\n",
       " 'total_commands_processed': 773411,\n",
       " 'total_connections_received': 1190,\n",
       " 'total_net_input_bytes': 130167251,\n",
       " 'total_net_output_bytes': 117293038,\n",
       " 'total_system_memory': 1031507968,\n",
       " 'total_system_memory_human': '983.72M',\n",
       " 'uptime_in_days': 0,\n",
       " 'uptime_in_seconds': 80156,\n",
       " 'used_cpu_sys': 37.468347,\n",
       " 'used_cpu_sys_children': 0.0,\n",
       " 'used_cpu_user': 61.123815,\n",
       " 'used_cpu_user_children': 0.0,\n",
       " 'used_memory': 787400,\n",
       " 'used_memory_dataset': 55670,\n",
       " 'used_memory_dataset_perc': '20.27%',\n",
       " 'used_memory_human': '768.95K',\n",
       " 'used_memory_lua': 37888,\n",
       " 'used_memory_lua_human': '37.00K',\n",
       " 'used_memory_overhead': 731730,\n",
       " 'used_memory_peak': 16340968,\n",
       " 'used_memory_peak_human': '15.58M',\n",
       " 'used_memory_peak_perc': '4.82%',\n",
       " 'used_memory_rss': 7045120,\n",
       " 'used_memory_rss_human': '6.72M',\n",
       " 'used_memory_scripts': 0,\n",
       " 'used_memory_scripts_human': '0B',\n",
       " 'used_memory_startup': 512816}"
      ]
     },
     "execution_count": 37,
     "metadata": {},
     "output_type": "execute_result"
    }
   ],
   "source": [
    "r.info(\"all\")"
   ]
  },
  {
   "cell_type": "code",
   "execution_count": 38,
   "metadata": {},
   "outputs": [
    {
     "data": {
      "text/plain": [
       "client\n",
       "namin__cabinet-5-5-25     160345.740239\n",
       "namin__cabinet-11-11-8    171825.527479\n",
       "namin__cabinet-0-0-14     189171.071326\n",
       "namin__sdsc-79            247277.851738\n",
       "Name: rate, dtype: float64"
      ]
     },
     "execution_count": 38,
     "metadata": {},
     "output_type": "execute_result"
    }
   ],
   "source": [
    "df = pd.DataFrame(results).drop([\"counts\"],axis=1)\n",
    "df[\"rate\"] = df[\"nevents\"]/df[\"elapsed\"]\n",
    "# Stats for nodes we ran on. Show slowest nodes (Hz) at the top.\n",
    "df.groupby(df.client.str.split(\".\",1).str[0])[\"rate\"].mean().sort_values()"
   ]
  },
  {
   "cell_type": "code",
   "execution_count": null,
   "metadata": {},
   "outputs": [],
   "source": []
  }
 ],
 "metadata": {
  "kernelspec": {
   "display_name": "Python 3",
   "language": "python",
   "name": "python3"
  },
  "language_info": {
   "codemirror_mode": {
    "name": "ipython",
    "version": 3
   },
   "file_extension": ".py",
   "mimetype": "text/x-python",
   "name": "python",
   "nbconvert_exporter": "python",
   "pygments_lexer": "ipython3",
   "version": "3.5.2"
  }
 },
 "nbformat": 4,
 "nbformat_minor": 2
}
