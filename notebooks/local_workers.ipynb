{
 "cells": [
  {
   "cell_type": "code",
   "execution_count": 1,
   "metadata": {},
   "outputs": [],
   "source": [
    "%matplotlib inline\n",
    "import glob\n",
    "import importlib\n",
    "import uproot\n",
    "import awkward\n",
    "import numpy as np\n",
    "import uproot_methods\n",
    "import matplotlib.pyplot as plt\n",
    "import concurrent.futures\n",
    "import functools\n",
    "import time\n",
    "import functools\n",
    "import concurrent.futures\n",
    "import pandas as pd\n",
    "from tqdm.auto import tqdm\n",
    "\n",
    "import utils\n",
    "import manager\n",
    "import plotting\n",
    "from config import REDIS_URL\n",
    "\n",
    "importlib.reload(plotting);\n",
    "importlib.reload(manager);\n",
    "importlib.reload(utils);\n",
    "\n",
    "# plotting.bokeh_output_notebook()"
   ]
  },
  {
   "cell_type": "code",
   "execution_count": 2,
   "metadata": {},
   "outputs": [
    {
     "data": {
      "text/plain": [
       "<Manager: broker='redis://uaf-1.t2.ucsd.edu:50963', workers=0>"
      ]
     },
     "execution_count": 2,
     "metadata": {},
     "output_type": "execute_result"
    }
   ],
   "source": [
    "m = manager.Manager()\n",
    "m"
   ]
  },
  {
   "cell_type": "markdown",
   "metadata": {},
   "source": [
    "## Local workers\n",
    "For rapid testing, we can start local workers in a `concurrent.futures.ProcessPoolExecutor`, one per new process.\n",
    "Because the importing of `worker.py` is done in separate processes, if we change the source of `worker.py` and re-run the below cell, we'll have 5 new workers using the latest source code."
   ]
  },
  {
   "cell_type": "code",
   "execution_count": 3,
   "metadata": {},
   "outputs": [
    {
     "data": {
      "text/plain": [
       "(<concurrent.futures.process.ProcessPoolExecutor at 0x7f742820b518>,\n",
       " [<Future at 0x7f7392ab1320 state=running>,\n",
       "  <Future at 0x7f7392ab1f28 state=running>,\n",
       "  <Future at 0x7f7392ab1fd0 state=running>,\n",
       "  <Future at 0x7f7392abb128 state=running>,\n",
       "  <Future at 0x7f7392ab1e48 state=running>])"
      ]
     },
     "execution_count": 3,
     "metadata": {},
     "output_type": "execute_result"
    }
   ],
   "source": [
    "m.stop_all_workers(progress_bar=False)\n",
    "time.sleep(0.5)\n",
    "utils.start_local_workers(5)"
   ]
  },
  {
   "cell_type": "code",
   "execution_count": 4,
   "metadata": {},
   "outputs": [
    {
     "data": {
      "application/vnd.jupyter.widget-view+json": {
       "model_id": "4f3b5c667f354ae9850f8718f7b49c7c",
       "version_major": 2,
       "version_minor": 0
      },
      "text/plain": [
       "HBox(children=(IntProgress(value=0, max=15), HTML(value='')))"
      ]
     },
     "metadata": {},
     "output_type": "display_data"
    },
    {
     "name": "stdout",
     "output_type": "stream",
     "text": [
      "\n"
     ]
    }
   ],
   "source": [
    "def f(x):\n",
    "    time.sleep(0.1)\n",
    "    return x\n",
    "results = m.remote_map(f,range(15))"
   ]
  },
  {
   "cell_type": "code",
   "execution_count": 5,
   "metadata": {},
   "outputs": [
    {
     "data": {
      "image/png": "[encoded data removed]",
      "text/plain": [
       "<Figure size 1080x216 with 1 Axes>"
      ]
     },
     "metadata": {
      "needs_background": "light"
     },
     "output_type": "display_data"
    }
   ],
   "source": [
    "# plotting.plot_timeflow_bokeh(results)\n",
    "plotting.plot_timeflow(results)"
   ]
  },
  {
   "cell_type": "code",
   "execution_count": 6,
   "metadata": {},
   "outputs": [
    {
     "data": {
      "text/plain": [
       "{'args': 1,\n",
       " 'job_num': 1,\n",
       " 'read_bytes': 0,\n",
       " 'result': 1,\n",
       " 'task_id': '4bf088a3fe4a4f09',\n",
       " 'tstart': 1567383639.7052758,\n",
       " 'tstop': 1567383639.8054228,\n",
       " 'worker_name': 'namin__uaf-10.t2.ucsd.edu__0.3450058',\n",
       " 'write_bytes': 0}"
      ]
     },
     "execution_count": 6,
     "metadata": {},
     "output_type": "execute_result"
    }
   ],
   "source": [
    "results[0]"
   ]
  },
  {
   "cell_type": "code",
   "execution_count": 7,
   "metadata": {},
   "outputs": [
    {
     "data": {
      "text/html": [
       "<div>\n",
       "<style scoped>\n",
       "    .dataframe tbody tr th:only-of-type {\n",
       "        vertical-align: middle;\n",
       "    }\n",
       "\n",
       "    .dataframe tbody tr th {\n",
       "        vertical-align: top;\n",
       "    }\n",
       "\n",
       "    .dataframe thead th {\n",
       "        text-align: right;\n",
       "    }\n",
       "</style>\n",
       "<table border=\"1\" class=\"dataframe\">\n",
       "  <thead>\n",
       "    <tr style=\"text-align: right;\">\n",
       "      <th></th>\n",
       "      <th>args</th>\n",
       "      <th>job_num</th>\n",
       "      <th>read_bytes</th>\n",
       "      <th>result</th>\n",
       "      <th>task_id</th>\n",
       "      <th>tstart</th>\n",
       "      <th>tstop</th>\n",
       "      <th>worker_name</th>\n",
       "      <th>write_bytes</th>\n",
       "    </tr>\n",
       "  </thead>\n",
       "  <tbody>\n",
       "    <tr>\n",
       "      <th>0</th>\n",
       "      <td>1</td>\n",
       "      <td>1</td>\n",
       "      <td>0</td>\n",
       "      <td>1</td>\n",
       "      <td>4bf088a3fe4a4f09</td>\n",
       "      <td>1.567384e+09</td>\n",
       "      <td>1.567384e+09</td>\n",
       "      <td>namin__uaf-10.t2.ucsd.edu__0.3450058</td>\n",
       "      <td>0</td>\n",
       "    </tr>\n",
       "    <tr>\n",
       "      <th>1</th>\n",
       "      <td>2</td>\n",
       "      <td>2</td>\n",
       "      <td>0</td>\n",
       "      <td>2</td>\n",
       "      <td>4bf088a3fe4a4f09</td>\n",
       "      <td>1.567384e+09</td>\n",
       "      <td>1.567384e+09</td>\n",
       "      <td>namin__uaf-10.t2.ucsd.edu__0.3450056</td>\n",
       "      <td>0</td>\n",
       "    </tr>\n",
       "    <tr>\n",
       "      <th>2</th>\n",
       "      <td>0</td>\n",
       "      <td>0</td>\n",
       "      <td>0</td>\n",
       "      <td>0</td>\n",
       "      <td>4bf088a3fe4a4f09</td>\n",
       "      <td>1.567384e+09</td>\n",
       "      <td>1.567384e+09</td>\n",
       "      <td>namin__uaf-10.t2.ucsd.edu__0.3450055</td>\n",
       "      <td>0</td>\n",
       "    </tr>\n",
       "    <tr>\n",
       "      <th>3</th>\n",
       "      <td>4</td>\n",
       "      <td>4</td>\n",
       "      <td>0</td>\n",
       "      <td>4</td>\n",
       "      <td>4bf088a3fe4a4f09</td>\n",
       "      <td>1.567384e+09</td>\n",
       "      <td>1.567384e+09</td>\n",
       "      <td>namin__uaf-10.t2.ucsd.edu__0.3450059</td>\n",
       "      <td>0</td>\n",
       "    </tr>\n",
       "    <tr>\n",
       "      <th>4</th>\n",
       "      <td>3</td>\n",
       "      <td>3</td>\n",
       "      <td>0</td>\n",
       "      <td>3</td>\n",
       "      <td>4bf088a3fe4a4f09</td>\n",
       "      <td>1.567384e+09</td>\n",
       "      <td>1.567384e+09</td>\n",
       "      <td>namin__uaf-10.t2.ucsd.edu__0.3450057</td>\n",
       "      <td>0</td>\n",
       "    </tr>\n",
       "    <tr>\n",
       "      <th>5</th>\n",
       "      <td>5</td>\n",
       "      <td>5</td>\n",
       "      <td>0</td>\n",
       "      <td>5</td>\n",
       "      <td>4bf088a3fe4a4f09</td>\n",
       "      <td>1.567384e+09</td>\n",
       "      <td>1.567384e+09</td>\n",
       "      <td>namin__uaf-10.t2.ucsd.edu__0.3450056</td>\n",
       "      <td>0</td>\n",
       "    </tr>\n",
       "    <tr>\n",
       "      <th>6</th>\n",
       "      <td>6</td>\n",
       "      <td>6</td>\n",
       "      <td>0</td>\n",
       "      <td>6</td>\n",
       "      <td>4bf088a3fe4a4f09</td>\n",
       "      <td>1.567384e+09</td>\n",
       "      <td>1.567384e+09</td>\n",
       "      <td>namin__uaf-10.t2.ucsd.edu__0.3450055</td>\n",
       "      <td>0</td>\n",
       "    </tr>\n",
       "    <tr>\n",
       "      <th>7</th>\n",
       "      <td>8</td>\n",
       "      <td>8</td>\n",
       "      <td>0</td>\n",
       "      <td>8</td>\n",
       "      <td>4bf088a3fe4a4f09</td>\n",
       "      <td>1.567384e+09</td>\n",
       "      <td>1.567384e+09</td>\n",
       "      <td>namin__uaf-10.t2.ucsd.edu__0.3450057</td>\n",
       "      <td>0</td>\n",
       "    </tr>\n",
       "    <tr>\n",
       "      <th>8</th>\n",
       "      <td>9</td>\n",
       "      <td>9</td>\n",
       "      <td>0</td>\n",
       "      <td>9</td>\n",
       "      <td>4bf088a3fe4a4f09</td>\n",
       "      <td>1.567384e+09</td>\n",
       "      <td>1.567384e+09</td>\n",
       "      <td>namin__uaf-10.t2.ucsd.edu__0.3450059</td>\n",
       "      <td>0</td>\n",
       "    </tr>\n",
       "    <tr>\n",
       "      <th>9</th>\n",
       "      <td>7</td>\n",
       "      <td>7</td>\n",
       "      <td>0</td>\n",
       "      <td>7</td>\n",
       "      <td>4bf088a3fe4a4f09</td>\n",
       "      <td>1.567384e+09</td>\n",
       "      <td>1.567384e+09</td>\n",
       "      <td>namin__uaf-10.t2.ucsd.edu__0.3450058</td>\n",
       "      <td>0</td>\n",
       "    </tr>\n",
       "    <tr>\n",
       "      <th>10</th>\n",
       "      <td>11</td>\n",
       "      <td>11</td>\n",
       "      <td>0</td>\n",
       "      <td>11</td>\n",
       "      <td>4bf088a3fe4a4f09</td>\n",
       "      <td>1.567384e+09</td>\n",
       "      <td>1.567384e+09</td>\n",
       "      <td>namin__uaf-10.t2.ucsd.edu__0.3450056</td>\n",
       "      <td>0</td>\n",
       "    </tr>\n",
       "    <tr>\n",
       "      <th>11</th>\n",
       "      <td>10</td>\n",
       "      <td>10</td>\n",
       "      <td>0</td>\n",
       "      <td>10</td>\n",
       "      <td>4bf088a3fe4a4f09</td>\n",
       "      <td>1.567384e+09</td>\n",
       "      <td>1.567384e+09</td>\n",
       "      <td>namin__uaf-10.t2.ucsd.edu__0.3450055</td>\n",
       "      <td>0</td>\n",
       "    </tr>\n",
       "    <tr>\n",
       "      <th>12</th>\n",
       "      <td>13</td>\n",
       "      <td>13</td>\n",
       "      <td>0</td>\n",
       "      <td>13</td>\n",
       "      <td>4bf088a3fe4a4f09</td>\n",
       "      <td>1.567384e+09</td>\n",
       "      <td>1.567384e+09</td>\n",
       "      <td>namin__uaf-10.t2.ucsd.edu__0.3450057</td>\n",
       "      <td>0</td>\n",
       "    </tr>\n",
       "    <tr>\n",
       "      <th>13</th>\n",
       "      <td>12</td>\n",
       "      <td>12</td>\n",
       "      <td>0</td>\n",
       "      <td>12</td>\n",
       "      <td>4bf088a3fe4a4f09</td>\n",
       "      <td>1.567384e+09</td>\n",
       "      <td>1.567384e+09</td>\n",
       "      <td>namin__uaf-10.t2.ucsd.edu__0.3450059</td>\n",
       "      <td>0</td>\n",
       "    </tr>\n",
       "    <tr>\n",
       "      <th>14</th>\n",
       "      <td>14</td>\n",
       "      <td>14</td>\n",
       "      <td>0</td>\n",
       "      <td>14</td>\n",
       "      <td>4bf088a3fe4a4f09</td>\n",
       "      <td>1.567384e+09</td>\n",
       "      <td>1.567384e+09</td>\n",
       "      <td>namin__uaf-10.t2.ucsd.edu__0.3450058</td>\n",
       "      <td>0</td>\n",
       "    </tr>\n",
       "  </tbody>\n",
       "</table>\n",
       "</div>"
      ],
      "text/plain": [
       "    args  job_num  read_bytes  result           task_id        tstart  \\\n",
       "0      1        1           0       1  4bf088a3fe4a4f09  1.567384e+09   \n",
       "1      2        2           0       2  4bf088a3fe4a4f09  1.567384e+09   \n",
       "2      0        0           0       0  4bf088a3fe4a4f09  1.567384e+09   \n",
       "3      4        4           0       4  4bf088a3fe4a4f09  1.567384e+09   \n",
       "4      3        3           0       3  4bf088a3fe4a4f09  1.567384e+09   \n",
       "5      5        5           0       5  4bf088a3fe4a4f09  1.567384e+09   \n",
       "6      6        6           0       6  4bf088a3fe4a4f09  1.567384e+09   \n",
       "7      8        8           0       8  4bf088a3fe4a4f09  1.567384e+09   \n",
       "8      9        9           0       9  4bf088a3fe4a4f09  1.567384e+09   \n",
       "9      7        7           0       7  4bf088a3fe4a4f09  1.567384e+09   \n",
       "10    11       11           0      11  4bf088a3fe4a4f09  1.567384e+09   \n",
       "11    10       10           0      10  4bf088a3fe4a4f09  1.567384e+09   \n",
       "12    13       13           0      13  4bf088a3fe4a4f09  1.567384e+09   \n",
       "13    12       12           0      12  4bf088a3fe4a4f09  1.567384e+09   \n",
       "14    14       14           0      14  4bf088a3fe4a4f09  1.567384e+09   \n",
       "\n",
       "           tstop                           worker_name  write_bytes  \n",
       "0   1.567384e+09  namin__uaf-10.t2.ucsd.edu__0.3450058            0  \n",
       "1   1.567384e+09  namin__uaf-10.t2.ucsd.edu__0.3450056            0  \n",
       "2   1.567384e+09  namin__uaf-10.t2.ucsd.edu__0.3450055            0  \n",
       "3   1.567384e+09  namin__uaf-10.t2.ucsd.edu__0.3450059            0  \n",
       "4   1.567384e+09  namin__uaf-10.t2.ucsd.edu__0.3450057            0  \n",
       "5   1.567384e+09  namin__uaf-10.t2.ucsd.edu__0.3450056            0  \n",
       "6   1.567384e+09  namin__uaf-10.t2.ucsd.edu__0.3450055            0  \n",
       "7   1.567384e+09  namin__uaf-10.t2.ucsd.edu__0.3450057            0  \n",
       "8   1.567384e+09  namin__uaf-10.t2.ucsd.edu__0.3450059            0  \n",
       "9   1.567384e+09  namin__uaf-10.t2.ucsd.edu__0.3450058            0  \n",
       "10  1.567384e+09  namin__uaf-10.t2.ucsd.edu__0.3450056            0  \n",
       "11  1.567384e+09  namin__uaf-10.t2.ucsd.edu__0.3450055            0  \n",
       "12  1.567384e+09  namin__uaf-10.t2.ucsd.edu__0.3450057            0  \n",
       "13  1.567384e+09  namin__uaf-10.t2.ucsd.edu__0.3450059            0  \n",
       "14  1.567384e+09  namin__uaf-10.t2.ucsd.edu__0.3450058            0  "
      ]
     },
     "execution_count": 7,
     "metadata": {},
     "output_type": "execute_result"
    }
   ],
   "source": [
    "pd.DataFrame(results)"
   ]
  },
  {
   "cell_type": "code",
   "execution_count": null,
   "metadata": {},
   "outputs": [],
   "source": []
  }
 ],
 "metadata": {
  "kernelspec": {
   "display_name": "Python 3",
   "language": "python",
   "name": "python3"
  },
  "language_info": {
   "codemirror_mode": {
    "name": "ipython",
    "version": 3
   },
   "file_extension": ".py",
   "mimetype": "text/x-python",
   "name": "python",
   "nbconvert_exporter": "python",
   "pygments_lexer": "ipython3",
   "version": "3.5.2"
  }
 },
 "nbformat": 4,
 "nbformat_minor": 2
}
