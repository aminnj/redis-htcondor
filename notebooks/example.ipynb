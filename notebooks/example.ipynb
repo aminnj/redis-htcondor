{
 "cells": [
  {
   "cell_type": "code",
   "execution_count": 71,
   "metadata": {},
   "outputs": [],
   "source": [
    "%matplotlib inline\n",
    "import glob\n",
    "\n",
    "import uproot\n",
    "import numpy as np\n",
    "import uproot_methods\n",
    "import matplotlib.pyplot as plt\n",
    "import concurrent.futures\n",
    "import functools\n",
    "import pandas as pd\n",
    "\n",
    "# local\n",
    "import utils\n",
    "import manager"
   ]
  },
  {
   "cell_type": "code",
   "execution_count": 72,
   "metadata": {},
   "outputs": [],
   "source": [
    "m = manager.Manager(\"redis://:mypass@uaf-10.t2.ucsd.edu:50010\")"
   ]
  },
  {
   "cell_type": "code",
   "execution_count": 110,
   "metadata": {},
   "outputs": [
    {
     "name": "stdout",
     "output_type": "stream",
     "text": [
      "We have 74 workers\n"
     ]
    },
    {
     "data": {
      "text/html": [
       "<div>\n",
       "<style scoped>\n",
       "    .dataframe tbody tr th:only-of-type {\n",
       "        vertical-align: middle;\n",
       "    }\n",
       "\n",
       "    .dataframe tbody tr th {\n",
       "        vertical-align: top;\n",
       "    }\n",
       "\n",
       "    .dataframe thead th {\n",
       "        text-align: right;\n",
       "    }\n",
       "</style>\n",
       "<table border=\"1\" class=\"dataframe\">\n",
       "  <thead>\n",
       "    <tr style=\"text-align: right;\">\n",
       "      <th></th>\n",
       "      <th>addr</th>\n",
       "      <th>name</th>\n",
       "      <th>age</th>\n",
       "      <th>id</th>\n",
       "      <th>idle</th>\n",
       "    </tr>\n",
       "  </thead>\n",
       "  <tbody>\n",
       "    <tr>\n",
       "      <th>72</th>\n",
       "      <td>169.228.132.135:39990</td>\n",
       "      <td>namin__sdsc-36.t2.ucsd.edu__mytask1__10183532.7</td>\n",
       "      <td>6438</td>\n",
       "      <td>215</td>\n",
       "      <td>74</td>\n",
       "    </tr>\n",
       "    <tr>\n",
       "      <th>73</th>\n",
       "      <td>169.228.132.167:47268</td>\n",
       "      <td>namin__sdsc-68.t2.ucsd.edu__mytask1__10183531.29</td>\n",
       "      <td>6462</td>\n",
       "      <td>198</td>\n",
       "      <td>72</td>\n",
       "    </tr>\n",
       "    <tr>\n",
       "      <th>74</th>\n",
       "      <td>169.228.132.167:47230</td>\n",
       "      <td>namin__sdsc-68.t2.ucsd.edu__mytask1__10183531.28</td>\n",
       "      <td>6467</td>\n",
       "      <td>195</td>\n",
       "      <td>72</td>\n",
       "    </tr>\n",
       "    <tr>\n",
       "      <th>75</th>\n",
       "      <td>169.228.130.145:47654</td>\n",
       "      <td>namin__cabinet-11-11-8.t2.ucsd.edu__mytask1__1...</td>\n",
       "      <td>6682</td>\n",
       "      <td>166</td>\n",
       "      <td>72</td>\n",
       "    </tr>\n",
       "    <tr>\n",
       "      <th>76</th>\n",
       "      <td>169.228.132.172:46004</td>\n",
       "      <td>namin__sdsc-73.t2.ucsd.edu__mytask1__10183530.34</td>\n",
       "      <td>6728</td>\n",
       "      <td>155</td>\n",
       "      <td>73</td>\n",
       "    </tr>\n",
       "  </tbody>\n",
       "</table>\n",
       "</div>"
      ],
      "text/plain": [
       "                     addr                                               name  \\\n",
       "72  169.228.132.135:39990    namin__sdsc-36.t2.ucsd.edu__mytask1__10183532.7   \n",
       "73  169.228.132.167:47268   namin__sdsc-68.t2.ucsd.edu__mytask1__10183531.29   \n",
       "74  169.228.132.167:47230   namin__sdsc-68.t2.ucsd.edu__mytask1__10183531.28   \n",
       "75  169.228.130.145:47654  namin__cabinet-11-11-8.t2.ucsd.edu__mytask1__1...   \n",
       "76  169.228.132.172:46004   namin__sdsc-73.t2.ucsd.edu__mytask1__10183530.34   \n",
       "\n",
       "     age   id idle  \n",
       "72  6438  215   74  \n",
       "73  6462  198   72  \n",
       "74  6467  195   72  \n",
       "75  6682  166   72  \n",
       "76  6728  155   73  "
      ]
     },
     "execution_count": 110,
     "metadata": {},
     "output_type": "execute_result"
    }
   ],
   "source": [
    "df = m.get_worker_info()\n",
    "print(\"We have {} workers\".format(df.shape[0]))\n",
    "df.tail()"
   ]
  },
  {
   "cell_type": "code",
   "execution_count": 74,
   "metadata": {},
   "outputs": [
    {
     "name": "stdout",
     "output_type": "stream",
     "text": [
      "CPU times: user 0 ns, sys: 0 ns, total: 0 ns\n",
      "Wall time: 116 µs\n"
     ]
    },
    {
     "data": {
      "text/plain": [
       "[0, 1, 4, 9, 16, 25, 36, 49, 64, 81]"
      ]
     },
     "execution_count": 74,
     "metadata": {},
     "output_type": "execute_result"
    }
   ],
   "source": [
    "%%time\n",
    "def f(x):\n",
    "    return x**2\n",
    "m.local_map(f,range(10),progress_bar=False)"
   ]
  },
  {
   "cell_type": "code",
   "execution_count": 75,
   "metadata": {},
   "outputs": [
    {
     "data": {
      "application/vnd.jupyter.widget-view+json": {
       "model_id": "0629289fb75e44b5b1f4b8ebc290d79d",
       "version_major": 2,
       "version_minor": 0
      },
      "text/plain": [
       "HBox(children=(IntProgress(value=0, max=10), HTML(value='')))"
      ]
     },
     "metadata": {},
     "output_type": "display_data"
    },
    {
     "name": "stdout",
     "output_type": "stream",
     "text": [
      "CPU times: user 47 ms, sys: 2 ms, total: 49 ms\n",
      "Wall time: 43.3 ms\n"
     ]
    },
    {
     "data": {
      "text/plain": [
       "[0, 25, 36, 4, 1, 81, 49, 9, 64, 16]"
      ]
     },
     "execution_count": 75,
     "metadata": {},
     "output_type": "execute_result"
    }
   ],
   "source": [
    "%%time\n",
    "m.remote_map(f,range(10),return_metadata=False)"
   ]
  },
  {
   "cell_type": "code",
   "execution_count": 76,
   "metadata": {},
   "outputs": [
    {
     "data": {
      "application/vnd.jupyter.widget-view+json": {
       "model_id": "ac259e2a317f42958db4169c1ccce3ec",
       "version_major": 2,
       "version_minor": 0
      },
      "text/plain": [
       "HBox(children=(IntProgress(value=0, max=30), HTML(value='')))"
      ]
     },
     "metadata": {},
     "output_type": "display_data"
    }
   ],
   "source": [
    "fnames = glob.glob(\"/hadoop/cms/store/user/namin/nanoaod/DoubleMuon__Run201*-Nano1June2019*/*.root\")\n",
    "def f(fname):\n",
    "    return uproot.open(fname)[\"Events\"].array(\"MET_pt\").mean()\n",
    "results = m.remote_map(f,fnames[:30])"
   ]
  },
  {
   "cell_type": "code",
   "execution_count": 77,
   "metadata": {},
   "outputs": [
    {
     "data": {
      "text/plain": [
       "(<Figure size 432x288 with 1 Axes>,\n",
       " <matplotlib.axes._subplots.AxesSubplot at 0x7fa5681ac2e8>)"
      ]
     },
     "execution_count": 77,
     "metadata": {},
     "output_type": "execute_result"
    },
    {
     "data": {
      "image/png": "[encoded data removed]",
      "text/plain": [
       "<Figure size 1080x216 with 1 Axes>"
      ]
     },
     "metadata": {
      "needs_background": "light"
     },
     "output_type": "display_data"
    },
    {
     "data": {
      "image/png": "[encoded data removed]",
      "text/plain": [
       "<Figure size 432x288 with 1 Axes>"
      ]
     },
     "metadata": {
      "needs_background": "light"
     },
     "output_type": "display_data"
    }
   ],
   "source": [
    "utils.plot_timeflow(results)\n",
    "utils.plot_cumulative_read(results)"
   ]
  },
  {
   "cell_type": "code",
   "execution_count": 111,
   "metadata": {},
   "outputs": [],
   "source": [
    "@functools.lru_cache(maxsize=128)\n",
    "def get_chunking(filelist, chunksize, treename=\"Events\", workers=12):\n",
    "    \"\"\"\n",
    "    Return 2-tuple of\n",
    "    - chunks: triplets of (filename,entrystart,entrystop) calculated with input `chunksize` and `filelist`\n",
    "    - total_nevents: total event count over `filelist`\n",
    "    \"\"\"\n",
    "    print(\"Recomputing\")\n",
    "    chunks = []\n",
    "    executor = None if len(filelist) < 5 else concurrent.futures.ThreadPoolExecutor(workers)\n",
    "    nevents = 0\n",
    "    for fn, nentries in uproot.numentries(filelist, treename, total=False, executor=executor,).items():\n",
    "        nevents += nentries\n",
    "        for index in range(nentries // chunksize + 1):\n",
    "            chunks.append((fn, chunksize*index, chunksize*(index+1)))\n",
    "    return chunks,nevents"
   ]
  },
  {
   "cell_type": "code",
   "execution_count": 112,
   "metadata": {},
   "outputs": [
    {
     "name": "stdout",
     "output_type": "stream",
     "text": [
      "Recomputing\n",
      "448 chunks of 133 files, with a total of 1.922e+08 events\n",
      "CPU times: user 18.9 s, sys: 408 ms, total: 19.3 s\n",
      "Wall time: 3.9 s\n"
     ]
    }
   ],
   "source": [
    "%%time\n",
    "fnames = sorted(glob.glob(\"/hadoop/cms/store/user/namin/nanoaod/DoubleMuon__Run*/*.root\"))\n",
    "\n",
    "# For testing, just 60 files (doublemu has ~130 total)\n",
    "# fnames = fnames[:60]\n",
    "\n",
    "chunks, total_nevents = get_chunking(tuple(fnames),int(0.5e6))\n",
    "print(\"{} chunks of {} files, with a total of {:.5g} events\".format(len(chunks),len(fnames),total_nevents))"
   ]
  },
  {
   "cell_type": "code",
   "execution_count": 113,
   "metadata": {},
   "outputs": [],
   "source": [
    "def get_mll_hist(args,bins=np.linspace(0,500,1000)):\n",
    "    fname,entrystart,entrystop = args\n",
    "    \"\"\"\n",
    "    return \n",
    "    - event count considered\n",
    "    - array of histogram bin counts for m(mumu) for nmu==2 events\n",
    "    \"\"\"\n",
    "    f = uproot.open(fname)\n",
    "    t = f[\"Events\"]\n",
    "    p4 = uproot_methods.TLorentzVectorArray.from_ptetaphim(\n",
    "        *t.arrays(\n",
    "            [\"Muon_pt\",\"Muon_eta\",\"Muon_phi\",\"Muon_mass\"],\n",
    "            outputtype=tuple,\n",
    "            namedecode=\"ascii\",\n",
    "            entrystart=entrystart,\n",
    "            entrystop=entrystop,\n",
    "        ),\n",
    "    )\n",
    "    nevents = len(p4)\n",
    "    pairs = p4[p4.counts==2]\n",
    "    mll = (pairs[:,0]+pairs[:,1]).mass\n",
    "    counts,_ = np.histogram(np.clip(mll,bins[0],bins[-1]),bins=bins)\n",
    "    return (nevents,counts)"
   ]
  },
  {
   "cell_type": "code",
   "execution_count": 114,
   "metadata": {},
   "outputs": [
    {
     "data": {
      "application/vnd.jupyter.widget-view+json": {
       "model_id": "52cf19be336b4b11b64d61bd6e0a79d0",
       "version_major": 2,
       "version_minor": 0
      },
      "text/plain": [
       "HBox(children=(IntProgress(value=0, max=448), HTML(value='')))"
      ]
     },
     "metadata": {},
     "output_type": "display_data"
    },
    {
     "name": "stdout",
     "output_type": "stream",
     "text": [
      "CPU times: user 2.87 s, sys: 150 ms, total: 3.02 s\n",
      "Wall time: 35.5 s\n"
     ]
    }
   ],
   "source": [
    "%%time\n",
    "bins = np.logspace(np.log10(0.5),np.log10(1000),num=300)\n",
    "# override the binning via currying\n",
    "f = functools.partial(get_mll_hist,bins=bins)\n",
    "# run a \"pilot\" locally first, so if it crashes, we won't submit them remotely\n",
    "f(chunks[0]);\n",
    "results = m.remote_map(f,chunks);"
   ]
  },
  {
   "cell_type": "code",
   "execution_count": 115,
   "metadata": {},
   "outputs": [
    {
     "data": {
      "text/plain": [
       "(<Figure size 432x288 with 1 Axes>,\n",
       " <matplotlib.axes._subplots.AxesSubplot at 0x7fa560f6c1d0>)"
      ]
     },
     "execution_count": 115,
     "metadata": {},
     "output_type": "execute_result"
    },
    {
     "data": {
      "image/png": "[encoded data removed]",
      "text/plain": [
       "<Figure size 1080x360 with 1 Axes>"
      ]
     },
     "metadata": {
      "needs_background": "light"
     },
     "output_type": "display_data"
    },
    {
     "data": {
      "image/png": "[encoded data removed]",
      "text/plain": [
       "<Figure size 432x288 with 1 Axes>"
      ]
     },
     "metadata": {
      "needs_background": "light"
     },
     "output_type": "display_data"
    }
   ],
   "source": [
    "utils.plot_timeflow(results)\n",
    "utils.plot_cumulative_read(results)"
   ]
  },
  {
   "cell_type": "code",
   "execution_count": 89,
   "metadata": {},
   "outputs": [
    {
     "name": "stdout",
     "output_type": "stream",
     "text": [
      "9.9701e+07 total muons\n"
     ]
    },
    {
     "data": {
      "text/plain": [
       "Text(0, 0.5, 'Entries')"
      ]
     },
     "execution_count": 89,
     "metadata": {},
     "output_type": "execute_result"
    },
    {
     "data": {
      "image/png": "[encoded data removed]",
      "text/plain": [
       "<Figure size 1080x360 with 1 Axes>"
      ]
     },
     "metadata": {
      "needs_background": "light"
     },
     "output_type": "display_data"
    }
   ],
   "source": [
    "counts = sum(r[0][1] for r in results)\n",
    "print(\"{:.5g} total muons\".format(counts.sum()))\n",
    "# log spaced bin centers (matching the inputs)\n",
    "centers = np.power(10.,0.5*(np.log10(bins[:-1])+np.log10(bins[1:])))\n",
    "fig,ax = plt.subplots(figsize=(15,5))\n",
    "ax.hist(centers,weights=counts,bins=bins);\n",
    "ax.set_xscale(\"log\")\n",
    "ax.set_yscale(\"log\")\n",
    "ax.set_xlabel(\"Invariant mass (GeV)\")\n",
    "ax.set_ylabel(\"Entries\")"
   ]
  },
  {
   "cell_type": "code",
   "execution_count": 107,
   "metadata": {},
   "outputs": [
    {
     "data": {
      "text/plain": [
       "{'active_defrag_hits': 0,\n",
       " 'active_defrag_key_hits': 0,\n",
       " 'active_defrag_key_misses': 0,\n",
       " 'active_defrag_misses': 0,\n",
       " 'active_defrag_running': 0,\n",
       " 'allocator_active': 3145728,\n",
       " 'allocator_allocated': 2377648,\n",
       " 'allocator_frag_bytes': 768080,\n",
       " 'allocator_frag_ratio': 1.32,\n",
       " 'allocator_resident': 11264000,\n",
       " 'allocator_rss_bytes': 8118272,\n",
       " 'allocator_rss_ratio': 3.58,\n",
       " 'aof_current_rewrite_time_sec': -1,\n",
       " 'aof_enabled': 0,\n",
       " 'aof_last_bgrewrite_status': 'ok',\n",
       " 'aof_last_cow_size': 0,\n",
       " 'aof_last_rewrite_time_sec': -1,\n",
       " 'aof_last_write_status': 'ok',\n",
       " 'aof_rewrite_in_progress': 0,\n",
       " 'aof_rewrite_scheduled': 0,\n",
       " 'arch_bits': 64,\n",
       " 'atomicvar_api': 'sync-builtin',\n",
       " 'blocked_clients': 74,\n",
       " 'client_recent_max_input_buffer': 2,\n",
       " 'client_recent_max_output_buffer': 0,\n",
       " 'cluster_enabled': 0,\n",
       " 'config_file': '/home/users/namin/sandbox/htmap/redis/redis-5.0.5/myconf.conf',\n",
       " 'configured_hz': 10,\n",
       " 'connected_clients': 77,\n",
       " 'connected_slaves': 0,\n",
       " 'evicted_keys': 0,\n",
       " 'executable': '/home/users/namin/sandbox/htmap/redis/redis-5.0.5/./src/redis-server',\n",
       " 'expired_keys': 0,\n",
       " 'expired_stale_perc': 0.0,\n",
       " 'expired_time_cap_reached_count': 0,\n",
       " 'gcc_version': '4.4.7',\n",
       " 'hz': 10,\n",
       " 'instantaneous_input_kbps': 0.0,\n",
       " 'instantaneous_ops_per_sec': 0,\n",
       " 'instantaneous_output_kbps': 0.0,\n",
       " 'keyspace_hits': 1217,\n",
       " 'keyspace_misses': 3123,\n",
       " 'latest_fork_usec': 0,\n",
       " 'lazyfree_pending_objects': 0,\n",
       " 'loading': 0,\n",
       " 'lru_clock': 5642689,\n",
       " 'master_repl_offset': 0,\n",
       " 'master_replid': 'ad41c4196905ba5e5660bf245c96d2c5dc3ffa5f',\n",
       " 'master_replid2': 0,\n",
       " 'maxmemory': 0,\n",
       " 'maxmemory_human': '0B',\n",
       " 'maxmemory_policy': 'noeviction',\n",
       " 'mem_allocator': 'jemalloc-5.1.0',\n",
       " 'mem_aof_buffer': 0,\n",
       " 'mem_clients_normal': 1335766,\n",
       " 'mem_clients_slaves': 0,\n",
       " 'mem_fragmentation_bytes': 5504520,\n",
       " 'mem_fragmentation_ratio': 3.57,\n",
       " 'mem_not_counted_for_evict': 0,\n",
       " 'mem_replication_backlog': 0,\n",
       " 'migrate_cached_sockets': 0,\n",
       " 'multiplexing_api': 'epoll',\n",
       " 'number_of_cached_scripts': 0,\n",
       " 'os': 'Linux 2.6.32-754.3.5.el6.x86_64 x86_64',\n",
       " 'process_id': 1280498,\n",
       " 'pubsub_channels': 0,\n",
       " 'pubsub_patterns': 0,\n",
       " 'rdb_bgsave_in_progress': 0,\n",
       " 'rdb_changes_since_last_save': 26467,\n",
       " 'rdb_current_bgsave_time_sec': -1,\n",
       " 'rdb_last_bgsave_status': 'ok',\n",
       " 'rdb_last_bgsave_time_sec': -1,\n",
       " 'rdb_last_cow_size': 0,\n",
       " 'rdb_last_save_time': 1565908449,\n",
       " 'redis_build_id': 'e1908217a4d70292',\n",
       " 'redis_git_dirty': 1,\n",
       " 'redis_git_sha1': 'b9b7b0ed',\n",
       " 'redis_mode': 'standalone',\n",
       " 'redis_version': '5.0.5',\n",
       " 'rejected_connections': 0,\n",
       " 'repl_backlog_active': 0,\n",
       " 'repl_backlog_first_byte_offset': 0,\n",
       " 'repl_backlog_histlen': 0,\n",
       " 'repl_backlog_size': 1048576,\n",
       " 'role': 'master',\n",
       " 'rss_overhead_bytes': -3620864,\n",
       " 'rss_overhead_ratio': 0.68,\n",
       " 'run_id': 'd84fb6861b1ac91af3e1e677bf434f8e3bef639a',\n",
       " 'second_repl_offset': -1,\n",
       " 'slave_expires_tracked_keys': 0,\n",
       " 'sync_full': 0,\n",
       " 'sync_partial_err': 0,\n",
       " 'sync_partial_ok': 0,\n",
       " 'tcp_port': 50010,\n",
       " 'total_commands_processed': 28316,\n",
       " 'total_connections_received': 258,\n",
       " 'total_net_input_bytes': 59259367,\n",
       " 'total_net_output_bytes': 55531479,\n",
       " 'total_system_memory': 135216459776,\n",
       " 'total_system_memory_human': '125.93G',\n",
       " 'uptime_in_days': 0,\n",
       " 'uptime_in_seconds': 15328,\n",
       " 'used_cpu_sys': 16.085554,\n",
       " 'used_cpu_sys_children': 0.0,\n",
       " 'used_cpu_user': 13.406961,\n",
       " 'used_cpu_user_children': 0.0,\n",
       " 'used_memory': 2180872,\n",
       " 'used_memory_dataset': 332170,\n",
       " 'used_memory_dataset_perc': '19.92%',\n",
       " 'used_memory_human': '2.08M',\n",
       " 'used_memory_lua': 37888,\n",
       " 'used_memory_lua_human': '37.00K',\n",
       " 'used_memory_overhead': 1848702,\n",
       " 'used_memory_peak': 6867704,\n",
       " 'used_memory_peak_human': '6.55M',\n",
       " 'used_memory_peak_perc': '31.76%',\n",
       " 'used_memory_rss': 7643136,\n",
       " 'used_memory_rss_human': '7.29M',\n",
       " 'used_memory_scripts': 0,\n",
       " 'used_memory_scripts_human': '0B',\n",
       " 'used_memory_startup': 512936}"
      ]
     },
     "execution_count": 107,
     "metadata": {},
     "output_type": "execute_result"
    }
   ],
   "source": [
    "m.r.info()"
   ]
  },
  {
   "cell_type": "code",
   "execution_count": null,
   "metadata": {},
   "outputs": [],
   "source": []
  }
 ],
 "metadata": {
  "kernelspec": {
   "display_name": "Python 3",
   "language": "python",
   "name": "python3"
  },
  "language_info": {
   "codemirror_mode": {
    "name": "ipython",
    "version": 3
   },
   "file_extension": ".py",
   "mimetype": "text/x-python",
   "name": "python",
   "nbconvert_exporter": "python",
   "pygments_lexer": "ipython3",
   "version": "3.5.2"
  }
 },
 "nbformat": 4,
 "nbformat_minor": 2
}
