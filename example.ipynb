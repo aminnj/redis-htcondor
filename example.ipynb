{
 "cells": [
  {
   "cell_type": "code",
   "execution_count": 71,
   "metadata": {},
   "outputs": [],
   "source": [
    "%matplotlib inline\n",
    "import glob\n",
    "\n",
    "import uproot\n",
    "import numpy as np\n",
    "import uproot_methods\n",
    "import matplotlib.pyplot as plt\n",
    "import concurrent.futures\n",
    "import functools\n",
    "import pandas as pd\n",
    "\n",
    "# local\n",
    "import utils\n",
    "import manager"
   ]
  },
  {
   "cell_type": "code",
   "execution_count": 72,
   "metadata": {},
   "outputs": [],
   "source": [
    "m = manager.Manager(\"redis://:mypass@uaf-10.t2.ucsd.edu:50010\")"
   ]
  },
  {
   "cell_type": "code",
   "execution_count": 73,
   "metadata": {},
   "outputs": [
    {
     "name": "stdout",
     "output_type": "stream",
     "text": [
      "We have 100 workers\n"
     ]
    },
    {
     "data": {
      "text/html": [
       "<div>\n",
       "<style scoped>\n",
       "    .dataframe tbody tr th:only-of-type {\n",
       "        vertical-align: middle;\n",
       "    }\n",
       "\n",
       "    .dataframe tbody tr th {\n",
       "        vertical-align: top;\n",
       "    }\n",
       "\n",
       "    .dataframe thead th {\n",
       "        text-align: right;\n",
       "    }\n",
       "</style>\n",
       "<table border=\"1\" class=\"dataframe\">\n",
       "  <thead>\n",
       "    <tr style=\"text-align: right;\">\n",
       "      <th></th>\n",
       "      <th>addr</th>\n",
       "      <th>name</th>\n",
       "      <th>age</th>\n",
       "      <th>id</th>\n",
       "      <th>idle</th>\n",
       "    </tr>\n",
       "  </thead>\n",
       "  <tbody>\n",
       "    <tr>\n",
       "      <th>97</th>\n",
       "      <td>169.228.132.123:45926</td>\n",
       "      <td>namin__sdsc-24.t2.ucsd.edu__mytask1__10183531.16</td>\n",
       "      <td>3233</td>\n",
       "      <td>241</td>\n",
       "      <td>17</td>\n",
       "    </tr>\n",
       "    <tr>\n",
       "      <th>98</th>\n",
       "      <td>169.228.132.102:57516</td>\n",
       "      <td>namin__sdsc-3.t2.ucsd.edu__mytask1__10183530.18</td>\n",
       "      <td>3226</td>\n",
       "      <td>251</td>\n",
       "      <td>21</td>\n",
       "    </tr>\n",
       "    <tr>\n",
       "      <th>99</th>\n",
       "      <td>169.228.131.97:56822</td>\n",
       "      <td>namin__cabinet-4-4-9.t2.ucsd.edu__mytask1__101...</td>\n",
       "      <td>3233</td>\n",
       "      <td>242</td>\n",
       "      <td>18</td>\n",
       "    </tr>\n",
       "    <tr>\n",
       "      <th>100</th>\n",
       "      <td>169.228.132.169:59036</td>\n",
       "      <td>namin__sdsc-70.t2.ucsd.edu__mytask1__10183530.15</td>\n",
       "      <td>5591</td>\n",
       "      <td>149</td>\n",
       "      <td>18</td>\n",
       "    </tr>\n",
       "    <tr>\n",
       "      <th>101</th>\n",
       "      <td>169.228.132.102:56018</td>\n",
       "      <td>namin__sdsc-3.t2.ucsd.edu__mytask1__10183531.38</td>\n",
       "      <td>4218</td>\n",
       "      <td>231</td>\n",
       "      <td>19</td>\n",
       "    </tr>\n",
       "  </tbody>\n",
       "</table>\n",
       "</div>"
      ],
      "text/plain": [
       "                      addr                                               name  \\\n",
       "97   169.228.132.123:45926   namin__sdsc-24.t2.ucsd.edu__mytask1__10183531.16   \n",
       "98   169.228.132.102:57516    namin__sdsc-3.t2.ucsd.edu__mytask1__10183530.18   \n",
       "99    169.228.131.97:56822  namin__cabinet-4-4-9.t2.ucsd.edu__mytask1__101...   \n",
       "100  169.228.132.169:59036   namin__sdsc-70.t2.ucsd.edu__mytask1__10183530.15   \n",
       "101  169.228.132.102:56018    namin__sdsc-3.t2.ucsd.edu__mytask1__10183531.38   \n",
       "\n",
       "      age   id idle  \n",
       "97   3233  241   17  \n",
       "98   3226  251   21  \n",
       "99   3233  242   18  \n",
       "100  5591  149   18  \n",
       "101  4218  231   19  "
      ]
     },
     "execution_count": 73,
     "metadata": {},
     "output_type": "execute_result"
    }
   ],
   "source": [
    "df = m.get_worker_info()\n",
    "print(\"We have {} workers\".format(df.shape[0]))\n",
    "df.tail()"
   ]
  },
  {
   "cell_type": "code",
   "execution_count": 74,
   "metadata": {},
   "outputs": [
    {
     "name": "stdout",
     "output_type": "stream",
     "text": [
      "CPU times: user 0 ns, sys: 0 ns, total: 0 ns\n",
      "Wall time: 116 µs\n"
     ]
    },
    {
     "data": {
      "text/plain": [
       "[0, 1, 4, 9, 16, 25, 36, 49, 64, 81]"
      ]
     },
     "execution_count": 74,
     "metadata": {},
     "output_type": "execute_result"
    }
   ],
   "source": [
    "%%time\n",
    "def f(x):\n",
    "    return x**2\n",
    "m.local_map(f,range(10),progress_bar=False)"
   ]
  },
  {
   "cell_type": "code",
   "execution_count": 75,
   "metadata": {},
   "outputs": [
    {
     "data": {
      "application/vnd.jupyter.widget-view+json": {
       "model_id": "0629289fb75e44b5b1f4b8ebc290d79d",
       "version_major": 2,
       "version_minor": 0
      },
      "text/plain": [
       "HBox(children=(IntProgress(value=0, max=10), HTML(value='')))"
      ]
     },
     "metadata": {},
     "output_type": "display_data"
    },
    {
     "name": "stdout",
     "output_type": "stream",
     "text": [
      "CPU times: user 47 ms, sys: 2 ms, total: 49 ms\n",
      "Wall time: 43.3 ms\n"
     ]
    },
    {
     "data": {
      "text/plain": [
       "[0, 25, 36, 4, 1, 81, 49, 9, 64, 16]"
      ]
     },
     "execution_count": 75,
     "metadata": {},
     "output_type": "execute_result"
    }
   ],
   "source": [
    "%%time\n",
    "m.remote_map(f,range(10),return_metadata=False)"
   ]
  },
  {
   "cell_type": "code",
   "execution_count": 76,
   "metadata": {},
   "outputs": [
    {
     "data": {
      "application/vnd.jupyter.widget-view+json": {
       "model_id": "ac259e2a317f42958db4169c1ccce3ec",
       "version_major": 2,
       "version_minor": 0
      },
      "text/plain": [
       "HBox(children=(IntProgress(value=0, max=30), HTML(value='')))"
      ]
     },
     "metadata": {},
     "output_type": "display_data"
    }
   ],
   "source": [
    "fnames = glob.glob(\"/hadoop/cms/store/user/namin/nanoaod/DoubleMuon__Run201*-Nano1June2019*/*.root\")\n",
    "def f(fname):\n",
    "    return uproot.open(fname)[\"Events\"].array(\"MET_pt\").mean()\n",
    "results = m.remote_map(f,fnames[:30])"
   ]
  },
  {
   "cell_type": "code",
   "execution_count": 77,
   "metadata": {},
   "outputs": [
    {
     "data": {
      "text/plain": [
       "(<Figure size 432x288 with 1 Axes>,\n",
       " <matplotlib.axes._subplots.AxesSubplot at 0x7fa5681ac2e8>)"
      ]
     },
     "execution_count": 77,
     "metadata": {},
     "output_type": "execute_result"
    },
    {
     "data": {
      "image/png": "[encoded data removed]",
      "text/plain": [
       "<Figure size 1080x216 with 1 Axes>"
      ]
     },
     "metadata": {
      "needs_background": "light"
     },
     "output_type": "display_data"
    },
    {
     "data": {
      "image/png": "[encoded data removed]",
      "text/plain": [
       "<Figure size 432x288 with 1 Axes>"
      ]
     },
     "metadata": {
      "needs_background": "light"
     },
     "output_type": "display_data"
    }
   ],
   "source": [
    "utils.plot_timeflow(results)\n",
    "utils.plot_cumulative_read(results)"
   ]
  },
  {
   "cell_type": "code",
   "execution_count": 82,
   "metadata": {},
   "outputs": [],
   "source": [
    "@functools.lru_cache(maxsize=128)\n",
    "def get_chunking(filelist, chunksize, treename=\"Events\", workers=12):\n",
    "    \"\"\"\n",
    "    Return 2-tuple of\n",
    "    - chunks: triplets of (filename,entrystart,entrystop) calculated with input `chunksize` and `filelist`\n",
    "    - total_nevents: total event count over `filelist`\n",
    "    \"\"\"\n",
    "    print(\"Recomputing\")\n",
    "    chunks = []\n",
    "    executor = None if len(filelist) < 5 else concurrent.futures.ThreadPoolExecutor(workers)\n",
    "    nevents = 0\n",
    "    for fn, nentries in uproot.numentries(filelist, treename, total=False, executor=executor,).items():\n",
    "        nevents += nentries\n",
    "        for index in range(nentries // chunksize + 1):\n",
    "            chunks.append((fn, chunksize*index, chunksize*(index+1)))\n",
    "    return chunks,nevents"
   ]
  },
  {
   "cell_type": "code",
   "execution_count": 83,
   "metadata": {},
   "outputs": [
    {
     "name": "stdout",
     "output_type": "stream",
     "text": [
      "Recomputing\n",
      "448 chunks of 133 files, with a total of 1.922e+08 events\n",
      "CPU times: user 17.8 s, sys: 2.7 s, total: 20.5 s\n",
      "Wall time: 7.01 s\n"
     ]
    }
   ],
   "source": [
    "%%time\n",
    "fnames = sorted(glob.glob(\"/hadoop/cms/store/user/namin/nanoaod/DoubleMuon__Run*/*.root\"))\n",
    "\n",
    "# For testing, just 60 files (doublemu has ~130 total)\n",
    "# fnames = fnames[:60]\n",
    "\n",
    "chunks, total_nevents = get_chunking(tuple(fnames),int(0.5e6))\n",
    "print(\"{} chunks of {} files, with a total of {:.5g} events\".format(len(chunks),len(fnames),total_nevents))"
   ]
  },
  {
   "cell_type": "code",
   "execution_count": 84,
   "metadata": {},
   "outputs": [],
   "source": [
    "def get_mll_hist(args,bins=np.linspace(0,500,1000)):\n",
    "    fname,entrystart,entrystop = args\n",
    "    \"\"\"\n",
    "    return \n",
    "    - event count considered\n",
    "    - array of histogram bin counts for m(mumu) for nmu==2 events\n",
    "    \"\"\"\n",
    "    f = uproot.open(fname)\n",
    "    t = f[\"Events\"]\n",
    "    p4 = uproot_methods.TLorentzVectorArray.from_ptetaphim(\n",
    "        *t.arrays(\n",
    "            [\"Muon_pt\",\"Muon_eta\",\"Muon_phi\",\"Muon_mass\"],\n",
    "            outputtype=tuple,\n",
    "            namedecode=\"ascii\",\n",
    "            entrystart=entrystart,\n",
    "            entrystop=entrystop,\n",
    "        ),\n",
    "    )\n",
    "    nevents = len(p4)\n",
    "    pairs = p4[p4.counts==2]\n",
    "    mll = (pairs[:,0]+pairs[:,1]).mass\n",
    "    counts,_ = np.histogram(np.clip(mll,bins[0],bins[-1]),bins=bins)\n",
    "    return (nevents,counts)"
   ]
  },
  {
   "cell_type": "code",
   "execution_count": 85,
   "metadata": {},
   "outputs": [
    {
     "data": {
      "application/vnd.jupyter.widget-view+json": {
       "model_id": "4a5b5d4007d74d55b452ddc9783d0e0f",
       "version_major": 2,
       "version_minor": 0
      },
      "text/plain": [
       "HBox(children=(IntProgress(value=0, max=448), HTML(value='')))"
      ]
     },
     "metadata": {},
     "output_type": "display_data"
    },
    {
     "name": "stdout",
     "output_type": "stream",
     "text": [
      "CPU times: user 2.74 s, sys: 743 ms, total: 3.48 s\n",
      "Wall time: 28.1 s\n"
     ]
    }
   ],
   "source": [
    "%%time\n",
    "bins = np.logspace(np.log10(0.5),np.log10(1000),num=300)\n",
    "# override the binning via currying\n",
    "f = functools.partial(get_mll_hist,bins=bins)\n",
    "# run a \"pilot\" locally first, so if it crashes, we won't submit them remotely\n",
    "f(chunks[0]);\n",
    "results = m.remote_map(f,chunks);"
   ]
  },
  {
   "cell_type": "code",
   "execution_count": 86,
   "metadata": {},
   "outputs": [
    {
     "data": {
      "text/plain": [
       "(<Figure size 432x288 with 1 Axes>,\n",
       " <matplotlib.axes._subplots.AxesSubplot at 0x7fa5681828d0>)"
      ]
     },
     "execution_count": 86,
     "metadata": {},
     "output_type": "execute_result"
    },
    {
     "data": {
      "image/png": "[encoded data removed]",
      "text/plain": [
       "<Figure size 1080x648 with 1 Axes>"
      ]
     },
     "metadata": {
      "needs_background": "light"
     },
     "output_type": "display_data"
    },
    {
     "data": {
      "image/png": "[encoded data removed]",
      "text/plain": [
       "<Figure size 432x288 with 1 Axes>"
      ]
     },
     "metadata": {
      "needs_background": "light"
     },
     "output_type": "display_data"
    }
   ],
   "source": [
    "utils.plot_timeflow(results)\n",
    "utils.plot_cumulative_read(results)"
   ]
  },
  {
   "cell_type": "code",
   "execution_count": 87,
   "metadata": {},
   "outputs": [
    {
     "name": "stdout",
     "output_type": "stream",
     "text": [
      "9.9701e+07 total muons\n"
     ]
    },
    {
     "data": {
      "text/plain": [
       "Text(0, 0.5, 'Entries')"
      ]
     },
     "execution_count": 87,
     "metadata": {},
     "output_type": "execute_result"
    },
    {
     "data": {
      "image/png": "[encoded data removed]",
      "text/plain": [
       "<Figure size 1080x288 with 1 Axes>"
      ]
     },
     "metadata": {
      "needs_background": "light"
     },
     "output_type": "display_data"
    }
   ],
   "source": [
    "counts = sum(r[0][1] for r in results)\n",
    "print(\"{:.5g} total muons\".format(counts.sum()))\n",
    "# log spaced bin centers (matching the inputs)\n",
    "centers = np.power(10.,0.5*(np.log10(bins[:-1])+np.log10(bins[1:])))\n",
    "fig,ax = plt.subplots(figsize=(15,4))\n",
    "ax.hist(centers,weights=counts,bins=bins);\n",
    "ax.set_xscale(\"log\")\n",
    "ax.set_yscale(\"log\")\n",
    "ax.set_xlabel(\"Invariant mass (GeV)\")\n",
    "ax.set_ylabel(\"Entries\")"
   ]
  },
  {
   "cell_type": "code",
   "execution_count": null,
   "metadata": {},
   "outputs": [],
   "source": []
  }
 ],
 "metadata": {
  "kernelspec": {
   "display_name": "Python 3",
   "language": "python",
   "name": "python3"
  },
  "language_info": {
   "codemirror_mode": {
    "name": "ipython",
    "version": 3
   },
   "file_extension": ".py",
   "mimetype": "text/x-python",
   "name": "python",
   "nbconvert_exporter": "python",
   "pygments_lexer": "ipython3",
   "version": "3.5.2"
  }
 },
 "nbformat": 4,
 "nbformat_minor": 2
}
